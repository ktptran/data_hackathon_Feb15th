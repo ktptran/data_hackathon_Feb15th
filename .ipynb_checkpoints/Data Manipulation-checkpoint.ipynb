{
 "cells": [
  {
   "cell_type": "code",
   "execution_count": 117,
   "metadata": {},
   "outputs": [],
   "source": [
    "import pandas as pd\n",
    "import numpy as np\n",
    "import matplotlib.pyplot as plt "
   ]
  },
  {
   "cell_type": "code",
   "execution_count": 2,
   "metadata": {},
   "outputs": [],
   "source": [
    "df=pd.read_csv('./Crime_Data.csv')"
   ]
  },
  {
   "cell_type": "code",
   "execution_count": 3,
   "metadata": {},
   "outputs": [
    {
     "data": {
      "text/plain": [
       "(523591, 11)"
      ]
     },
     "execution_count": 3,
     "metadata": {},
     "output_type": "execute_result"
    }
   ],
   "source": [
    "df.head(2)\n",
    "df.shape # (523591, 11)\n",
    "# df.info()"
   ]
  },
  {
   "cell_type": "code",
   "execution_count": 4,
   "metadata": {},
   "outputs": [],
   "source": [
    "df['Occurred Date'] = df['Occurred Date'].fillna('None')"
   ]
  },
  {
   "cell_type": "code",
   "execution_count": 228,
   "metadata": {},
   "outputs": [
    {
     "data": {
      "text/plain": [
       "Index(['Report Number', 'Occurred Date', 'Occurred Time', 'Reported Date',\n",
       "       'Reported Time', 'Crime Subcategory', 'Primary Offense Description',\n",
       "       'Precinct', 'Sector', 'Beat', 'Neighborhood'],\n",
       "      dtype='object')"
      ]
     },
     "execution_count": 228,
     "metadata": {},
     "output_type": "execute_result"
    }
   ],
   "source": [
    "df.columns"
   ]
  },
  {
   "cell_type": "code",
   "execution_count": 247,
   "metadata": {},
   "outputs": [],
   "source": [
    "unique_neighborhoods = df['Neighborhood'].to_frame().groupby('Neighborhood').size().to_frame().index.values"
   ]
  },
  {
   "cell_type": "code",
   "execution_count": 257,
   "metadata": {},
   "outputs": [
    {
     "data": {
      "text/html": [
       "<div>\n",
       "<style scoped>\n",
       "    .dataframe tbody tr th:only-of-type {\n",
       "        vertical-align: middle;\n",
       "    }\n",
       "\n",
       "    .dataframe tbody tr th {\n",
       "        vertical-align: top;\n",
       "    }\n",
       "\n",
       "    .dataframe thead th {\n",
       "        text-align: right;\n",
       "    }\n",
       "</style>\n",
       "<table border=\"1\" class=\"dataframe\">\n",
       "  <thead>\n",
       "    <tr style=\"text-align: right;\">\n",
       "      <th></th>\n",
       "      <th>Report Number</th>\n",
       "      <th>Occurred Date</th>\n",
       "      <th>Occurred Time</th>\n",
       "      <th>Reported Date</th>\n",
       "      <th>Reported Time</th>\n",
       "      <th>Crime Subcategory</th>\n",
       "      <th>Primary Offense Description</th>\n",
       "      <th>Precinct</th>\n",
       "      <th>Sector</th>\n",
       "      <th>Beat</th>\n",
       "      <th>Neighborhood</th>\n",
       "    </tr>\n",
       "  </thead>\n",
       "  <tbody>\n",
       "    <tr>\n",
       "      <td>21</td>\n",
       "      <td>2013000033940</td>\n",
       "      <td>01/01/1989</td>\n",
       "      <td>0.0</td>\n",
       "      <td>01/30/2013</td>\n",
       "      <td>1425.0</td>\n",
       "      <td>SEX OFFENSE-OTHER</td>\n",
       "      <td>SEXOFF-OTHER</td>\n",
       "      <td>SOUTHWEST</td>\n",
       "      <td>W</td>\n",
       "      <td>W2</td>\n",
       "      <td>ALASKA JUNCTION</td>\n",
       "    </tr>\n",
       "    <tr>\n",
       "      <td>164</td>\n",
       "      <td>20150000322300</td>\n",
       "      <td>11/01/2001</td>\n",
       "      <td>1200.0</td>\n",
       "      <td>09/14/2015</td>\n",
       "      <td>841.0</td>\n",
       "      <td>THEFT-BUILDING</td>\n",
       "      <td>THEFT-BUILDING</td>\n",
       "      <td>SOUTHWEST</td>\n",
       "      <td>W</td>\n",
       "      <td>W2</td>\n",
       "      <td>ALASKA JUNCTION</td>\n",
       "    </tr>\n",
       "    <tr>\n",
       "      <td>199</td>\n",
       "      <td>2019000097219</td>\n",
       "      <td>01/01/2003</td>\n",
       "      <td>0.0</td>\n",
       "      <td>03/18/2019</td>\n",
       "      <td>1915.0</td>\n",
       "      <td>RAPE</td>\n",
       "      <td>RAPE-STRONGARM</td>\n",
       "      <td>SOUTHWEST</td>\n",
       "      <td>W</td>\n",
       "      <td>W2</td>\n",
       "      <td>ALASKA JUNCTION</td>\n",
       "    </tr>\n",
       "    <tr>\n",
       "      <td>214</td>\n",
       "      <td>20140000275896</td>\n",
       "      <td>10/24/2003</td>\n",
       "      <td>0.0</td>\n",
       "      <td>08/22/2014</td>\n",
       "      <td>1032.0</td>\n",
       "      <td>FAMILY OFFENSE-NONVIOLENT</td>\n",
       "      <td>CHILD-OTHER</td>\n",
       "      <td>SOUTHWEST</td>\n",
       "      <td>W</td>\n",
       "      <td>W2</td>\n",
       "      <td>ALASKA JUNCTION</td>\n",
       "    </tr>\n",
       "    <tr>\n",
       "      <td>263</td>\n",
       "      <td>20120000151694</td>\n",
       "      <td>01/01/2005</td>\n",
       "      <td>1100.0</td>\n",
       "      <td>05/17/2012</td>\n",
       "      <td>801.0</td>\n",
       "      <td>FAMILY OFFENSE-NONVIOLENT</td>\n",
       "      <td>CHILD-ABUSED-NOFORCE</td>\n",
       "      <td>SOUTHWEST</td>\n",
       "      <td>W</td>\n",
       "      <td>W2</td>\n",
       "      <td>ALASKA JUNCTION</td>\n",
       "    </tr>\n",
       "    <tr>\n",
       "      <td>...</td>\n",
       "      <td>...</td>\n",
       "      <td>...</td>\n",
       "      <td>...</td>\n",
       "      <td>...</td>\n",
       "      <td>...</td>\n",
       "      <td>...</td>\n",
       "      <td>...</td>\n",
       "      <td>...</td>\n",
       "      <td>...</td>\n",
       "      <td>...</td>\n",
       "      <td>...</td>\n",
       "    </tr>\n",
       "    <tr>\n",
       "      <td>523275</td>\n",
       "      <td>20190000157579</td>\n",
       "      <td>05/03/2019</td>\n",
       "      <td>715.0</td>\n",
       "      <td>05/03/2019</td>\n",
       "      <td>1018.0</td>\n",
       "      <td>THEFT-SHOPLIFT</td>\n",
       "      <td>THEFT-SHOPLIFT</td>\n",
       "      <td>SOUTHWEST</td>\n",
       "      <td>W</td>\n",
       "      <td>W2</td>\n",
       "      <td>ALASKA JUNCTION</td>\n",
       "    </tr>\n",
       "    <tr>\n",
       "      <td>523335</td>\n",
       "      <td>20190000159451</td>\n",
       "      <td>05/04/2019</td>\n",
       "      <td>1539.0</td>\n",
       "      <td>05/04/2019</td>\n",
       "      <td>1539.0</td>\n",
       "      <td>BURGLARY-RESIDENTIAL</td>\n",
       "      <td>BURGLARY-NOFORCE-RES</td>\n",
       "      <td>SOUTHWEST</td>\n",
       "      <td>W</td>\n",
       "      <td>W2</td>\n",
       "      <td>ALASKA JUNCTION</td>\n",
       "    </tr>\n",
       "    <tr>\n",
       "      <td>523396</td>\n",
       "      <td>20190000158687</td>\n",
       "      <td>05/04/2019</td>\n",
       "      <td>56.0</td>\n",
       "      <td>05/04/2019</td>\n",
       "      <td>56.0</td>\n",
       "      <td>DUI</td>\n",
       "      <td>DUI-LIQUOR</td>\n",
       "      <td>SOUTHWEST</td>\n",
       "      <td>W</td>\n",
       "      <td>W2</td>\n",
       "      <td>ALASKA JUNCTION</td>\n",
       "    </tr>\n",
       "    <tr>\n",
       "      <td>523534</td>\n",
       "      <td>20190000161997</td>\n",
       "      <td>05/06/2019</td>\n",
       "      <td>1344.0</td>\n",
       "      <td>05/06/2019</td>\n",
       "      <td>1344.0</td>\n",
       "      <td>BURGLARY-RESIDENTIAL</td>\n",
       "      <td>BURGLARY-NOFORCE-RES</td>\n",
       "      <td>SOUTHWEST</td>\n",
       "      <td>W</td>\n",
       "      <td>W2</td>\n",
       "      <td>ALASKA JUNCTION</td>\n",
       "    </tr>\n",
       "    <tr>\n",
       "      <td>523576</td>\n",
       "      <td>20190000161253</td>\n",
       "      <td>05/06/2019</td>\n",
       "      <td>102.0</td>\n",
       "      <td>05/06/2019</td>\n",
       "      <td>124.0</td>\n",
       "      <td>TRESPASS</td>\n",
       "      <td>TRESPASS</td>\n",
       "      <td>SOUTHWEST</td>\n",
       "      <td>W</td>\n",
       "      <td>W2</td>\n",
       "      <td>ALASKA JUNCTION</td>\n",
       "    </tr>\n",
       "  </tbody>\n",
       "</table>\n",
       "<p>7089 rows × 11 columns</p>\n",
       "</div>"
      ],
      "text/plain": [
       "         Report Number Occurred Date  Occurred Time Reported Date  \\\n",
       "21       2013000033940    01/01/1989            0.0    01/30/2013   \n",
       "164     20150000322300    11/01/2001         1200.0    09/14/2015   \n",
       "199      2019000097219    01/01/2003            0.0    03/18/2019   \n",
       "214     20140000275896    10/24/2003            0.0    08/22/2014   \n",
       "263     20120000151694    01/01/2005         1100.0    05/17/2012   \n",
       "...                ...           ...            ...           ...   \n",
       "523275  20190000157579    05/03/2019          715.0    05/03/2019   \n",
       "523335  20190000159451    05/04/2019         1539.0    05/04/2019   \n",
       "523396  20190000158687    05/04/2019           56.0    05/04/2019   \n",
       "523534  20190000161997    05/06/2019         1344.0    05/06/2019   \n",
       "523576  20190000161253    05/06/2019          102.0    05/06/2019   \n",
       "\n",
       "        Reported Time          Crime Subcategory Primary Offense Description  \\\n",
       "21             1425.0          SEX OFFENSE-OTHER                SEXOFF-OTHER   \n",
       "164             841.0             THEFT-BUILDING              THEFT-BUILDING   \n",
       "199            1915.0                       RAPE              RAPE-STRONGARM   \n",
       "214            1032.0  FAMILY OFFENSE-NONVIOLENT                 CHILD-OTHER   \n",
       "263             801.0  FAMILY OFFENSE-NONVIOLENT        CHILD-ABUSED-NOFORCE   \n",
       "...               ...                        ...                         ...   \n",
       "523275         1018.0             THEFT-SHOPLIFT              THEFT-SHOPLIFT   \n",
       "523335         1539.0       BURGLARY-RESIDENTIAL        BURGLARY-NOFORCE-RES   \n",
       "523396           56.0                        DUI                  DUI-LIQUOR   \n",
       "523534         1344.0       BURGLARY-RESIDENTIAL        BURGLARY-NOFORCE-RES   \n",
       "523576          124.0                   TRESPASS                    TRESPASS   \n",
       "\n",
       "         Precinct Sector Beat     Neighborhood  \n",
       "21      SOUTHWEST      W   W2  ALASKA JUNCTION  \n",
       "164     SOUTHWEST      W   W2  ALASKA JUNCTION  \n",
       "199     SOUTHWEST      W   W2  ALASKA JUNCTION  \n",
       "214     SOUTHWEST      W   W2  ALASKA JUNCTION  \n",
       "263     SOUTHWEST      W   W2  ALASKA JUNCTION  \n",
       "...           ...    ...  ...              ...  \n",
       "523275  SOUTHWEST      W   W2  ALASKA JUNCTION  \n",
       "523335  SOUTHWEST      W   W2  ALASKA JUNCTION  \n",
       "523396  SOUTHWEST      W   W2  ALASKA JUNCTION  \n",
       "523534  SOUTHWEST      W   W2  ALASKA JUNCTION  \n",
       "523576  SOUTHWEST      W   W2  ALASKA JUNCTION  \n",
       "\n",
       "[7089 rows x 11 columns]"
      ]
     },
     "execution_count": 257,
     "metadata": {},
     "output_type": "execute_result"
    }
   ],
   "source": [
    "len(unique_neighborhoods)\n",
    "df[df['Neighborhood'] == unique_neighborhoods[0]]\n",
    "df[df['Neighborhood'] == unique_neighborhoods[0]]"
   ]
  },
  {
   "cell_type": "code",
   "execution_count": 260,
   "metadata": {},
   "outputs": [
    {
     "ename": "KeyError",
     "evalue": "0",
     "output_type": "error",
     "traceback": [
      "\u001b[0;31m---------------------------------------------------------------------------\u001b[0m",
      "\u001b[0;31mKeyError\u001b[0m                                  Traceback (most recent call last)",
      "\u001b[0;32m<ipython-input-260-fa67f10503bd>\u001b[0m in \u001b[0;36m<module>\u001b[0;34m\u001b[0m\n\u001b[0;32m----> 1\u001b[0;31m \u001b[0mneighborhoodChange\u001b[0m\u001b[0;34m(\u001b[0m\u001b[0mdf\u001b[0m\u001b[0;34m[\u001b[0m\u001b[0mdf\u001b[0m\u001b[0;34m[\u001b[0m\u001b[0;34m'Neighborhood'\u001b[0m\u001b[0;34m]\u001b[0m \u001b[0;34m==\u001b[0m \u001b[0munique_neighborhoods\u001b[0m\u001b[0;34m[\u001b[0m\u001b[0;36m0\u001b[0m\u001b[0;34m]\u001b[0m\u001b[0;34m]\u001b[0m\u001b[0;34m)\u001b[0m\u001b[0;34m\u001b[0m\u001b[0;34m\u001b[0m\u001b[0m\n\u001b[0m",
      "\u001b[0;32m<ipython-input-259-7da8befee0dd>\u001b[0m in \u001b[0;36mneighborhoodChange\u001b[0;34m(df)\u001b[0m\n\u001b[1;32m      4\u001b[0m     \u001b[0mdays\u001b[0m \u001b[0;34m=\u001b[0m \u001b[0;34m[\u001b[0m\u001b[0;34m]\u001b[0m\u001b[0;34m\u001b[0m\u001b[0;34m\u001b[0m\u001b[0m\n\u001b[1;32m      5\u001b[0m     \u001b[0;32mfor\u001b[0m \u001b[0mi\u001b[0m \u001b[0;32min\u001b[0m \u001b[0mrange\u001b[0m\u001b[0;34m(\u001b[0m\u001b[0mlen\u001b[0m\u001b[0;34m(\u001b[0m\u001b[0mdf\u001b[0m\u001b[0;34m)\u001b[0m\u001b[0;34m)\u001b[0m\u001b[0;34m:\u001b[0m\u001b[0;34m\u001b[0m\u001b[0;34m\u001b[0m\u001b[0m\n\u001b[0;32m----> 6\u001b[0;31m         \u001b[0mvalue\u001b[0m \u001b[0;34m=\u001b[0m \u001b[0mstr\u001b[0m\u001b[0;34m(\u001b[0m\u001b[0mdf\u001b[0m\u001b[0;34m[\u001b[0m\u001b[0;34m'Occurred Date'\u001b[0m\u001b[0;34m]\u001b[0m\u001b[0;34m[\u001b[0m\u001b[0mi\u001b[0m\u001b[0;34m]\u001b[0m\u001b[0;34m)\u001b[0m\u001b[0;34m\u001b[0m\u001b[0;34m\u001b[0m\u001b[0m\n\u001b[0m\u001b[1;32m      7\u001b[0m         \u001b[0;32mif\u001b[0m \u001b[0;34m(\u001b[0m\u001b[0mvalue\u001b[0m \u001b[0;34m!=\u001b[0m \u001b[0;34m'None'\u001b[0m\u001b[0;34m)\u001b[0m\u001b[0;34m:\u001b[0m\u001b[0;34m\u001b[0m\u001b[0;34m\u001b[0m\u001b[0m\n\u001b[1;32m      8\u001b[0m             \u001b[0myear\u001b[0m \u001b[0;34m=\u001b[0m \u001b[0mvalue\u001b[0m\u001b[0;34m[\u001b[0m\u001b[0;36m6\u001b[0m\u001b[0;34m:\u001b[0m\u001b[0;36m10\u001b[0m\u001b[0;34m]\u001b[0m\u001b[0;34m\u001b[0m\u001b[0;34m\u001b[0m\u001b[0m\n",
      "\u001b[0;32m/opt/anaconda3/lib/python3.7/site-packages/pandas/core/series.py\u001b[0m in \u001b[0;36m__getitem__\u001b[0;34m(self, key)\u001b[0m\n\u001b[1;32m   1066\u001b[0m         \u001b[0mkey\u001b[0m \u001b[0;34m=\u001b[0m \u001b[0mcom\u001b[0m\u001b[0;34m.\u001b[0m\u001b[0mapply_if_callable\u001b[0m\u001b[0;34m(\u001b[0m\u001b[0mkey\u001b[0m\u001b[0;34m,\u001b[0m \u001b[0mself\u001b[0m\u001b[0;34m)\u001b[0m\u001b[0;34m\u001b[0m\u001b[0;34m\u001b[0m\u001b[0m\n\u001b[1;32m   1067\u001b[0m         \u001b[0;32mtry\u001b[0m\u001b[0;34m:\u001b[0m\u001b[0;34m\u001b[0m\u001b[0;34m\u001b[0m\u001b[0m\n\u001b[0;32m-> 1068\u001b[0;31m             \u001b[0mresult\u001b[0m \u001b[0;34m=\u001b[0m \u001b[0mself\u001b[0m\u001b[0;34m.\u001b[0m\u001b[0mindex\u001b[0m\u001b[0;34m.\u001b[0m\u001b[0mget_value\u001b[0m\u001b[0;34m(\u001b[0m\u001b[0mself\u001b[0m\u001b[0;34m,\u001b[0m \u001b[0mkey\u001b[0m\u001b[0;34m)\u001b[0m\u001b[0;34m\u001b[0m\u001b[0;34m\u001b[0m\u001b[0m\n\u001b[0m\u001b[1;32m   1069\u001b[0m \u001b[0;34m\u001b[0m\u001b[0m\n\u001b[1;32m   1070\u001b[0m             \u001b[0;32mif\u001b[0m \u001b[0;32mnot\u001b[0m \u001b[0mis_scalar\u001b[0m\u001b[0;34m(\u001b[0m\u001b[0mresult\u001b[0m\u001b[0;34m)\u001b[0m\u001b[0;34m:\u001b[0m\u001b[0;34m\u001b[0m\u001b[0;34m\u001b[0m\u001b[0m\n",
      "\u001b[0;32m/opt/anaconda3/lib/python3.7/site-packages/pandas/core/indexes/base.py\u001b[0m in \u001b[0;36mget_value\u001b[0;34m(self, series, key)\u001b[0m\n\u001b[1;32m   4728\u001b[0m         \u001b[0mk\u001b[0m \u001b[0;34m=\u001b[0m \u001b[0mself\u001b[0m\u001b[0;34m.\u001b[0m\u001b[0m_convert_scalar_indexer\u001b[0m\u001b[0;34m(\u001b[0m\u001b[0mk\u001b[0m\u001b[0;34m,\u001b[0m \u001b[0mkind\u001b[0m\u001b[0;34m=\u001b[0m\u001b[0;34m\"getitem\"\u001b[0m\u001b[0;34m)\u001b[0m\u001b[0;34m\u001b[0m\u001b[0;34m\u001b[0m\u001b[0m\n\u001b[1;32m   4729\u001b[0m         \u001b[0;32mtry\u001b[0m\u001b[0;34m:\u001b[0m\u001b[0;34m\u001b[0m\u001b[0;34m\u001b[0m\u001b[0m\n\u001b[0;32m-> 4730\u001b[0;31m             \u001b[0;32mreturn\u001b[0m \u001b[0mself\u001b[0m\u001b[0;34m.\u001b[0m\u001b[0m_engine\u001b[0m\u001b[0;34m.\u001b[0m\u001b[0mget_value\u001b[0m\u001b[0;34m(\u001b[0m\u001b[0ms\u001b[0m\u001b[0;34m,\u001b[0m \u001b[0mk\u001b[0m\u001b[0;34m,\u001b[0m \u001b[0mtz\u001b[0m\u001b[0;34m=\u001b[0m\u001b[0mgetattr\u001b[0m\u001b[0;34m(\u001b[0m\u001b[0mseries\u001b[0m\u001b[0;34m.\u001b[0m\u001b[0mdtype\u001b[0m\u001b[0;34m,\u001b[0m \u001b[0;34m\"tz\"\u001b[0m\u001b[0;34m,\u001b[0m \u001b[0;32mNone\u001b[0m\u001b[0;34m)\u001b[0m\u001b[0;34m)\u001b[0m\u001b[0;34m\u001b[0m\u001b[0;34m\u001b[0m\u001b[0m\n\u001b[0m\u001b[1;32m   4731\u001b[0m         \u001b[0;32mexcept\u001b[0m \u001b[0mKeyError\u001b[0m \u001b[0;32mas\u001b[0m \u001b[0me1\u001b[0m\u001b[0;34m:\u001b[0m\u001b[0;34m\u001b[0m\u001b[0;34m\u001b[0m\u001b[0m\n\u001b[1;32m   4732\u001b[0m             \u001b[0;32mif\u001b[0m \u001b[0mlen\u001b[0m\u001b[0;34m(\u001b[0m\u001b[0mself\u001b[0m\u001b[0;34m)\u001b[0m \u001b[0;34m>\u001b[0m \u001b[0;36m0\u001b[0m \u001b[0;32mand\u001b[0m \u001b[0;34m(\u001b[0m\u001b[0mself\u001b[0m\u001b[0;34m.\u001b[0m\u001b[0mholds_integer\u001b[0m\u001b[0;34m(\u001b[0m\u001b[0;34m)\u001b[0m \u001b[0;32mor\u001b[0m \u001b[0mself\u001b[0m\u001b[0;34m.\u001b[0m\u001b[0mis_boolean\u001b[0m\u001b[0;34m(\u001b[0m\u001b[0;34m)\u001b[0m\u001b[0;34m)\u001b[0m\u001b[0;34m:\u001b[0m\u001b[0;34m\u001b[0m\u001b[0;34m\u001b[0m\u001b[0m\n",
      "\u001b[0;32mpandas/_libs/index.pyx\u001b[0m in \u001b[0;36mpandas._libs.index.IndexEngine.get_value\u001b[0;34m()\u001b[0m\n",
      "\u001b[0;32mpandas/_libs/index.pyx\u001b[0m in \u001b[0;36mpandas._libs.index.IndexEngine.get_value\u001b[0;34m()\u001b[0m\n",
      "\u001b[0;32mpandas/_libs/index.pyx\u001b[0m in \u001b[0;36mpandas._libs.index.IndexEngine.get_loc\u001b[0;34m()\u001b[0m\n",
      "\u001b[0;32mpandas/_libs/hashtable_class_helper.pxi\u001b[0m in \u001b[0;36mpandas._libs.hashtable.Int64HashTable.get_item\u001b[0;34m()\u001b[0m\n",
      "\u001b[0;32mpandas/_libs/hashtable_class_helper.pxi\u001b[0m in \u001b[0;36mpandas._libs.hashtable.Int64HashTable.get_item\u001b[0;34m()\u001b[0m\n",
      "\u001b[0;31mKeyError\u001b[0m: 0"
     ]
    }
   ],
   "source": [
    "neighborhoodChange(df[df['Neighborhood'] == unique_neighborhoods[0]])"
   ]
  },
  {
   "cell_type": "code",
   "execution_count": 259,
   "metadata": {},
   "outputs": [],
   "source": [
    "def neighborhoodChange(df):\n",
    "    years = []\n",
    "    months = []\n",
    "    days = []\n",
    "    for i in range(len(df)):\n",
    "        value = str(df['Occurred Date'][i])\n",
    "        if (value != 'None'):\n",
    "            year = value[6:10]\n",
    "            month = value[0:2]\n",
    "            day = value[3:5]\n",
    "            months.append(month)\n",
    "            days.append(day)\n",
    "            years.append(year) \n",
    "            dfDays = pd.DataFrame([years, months, days],index = ['Year', 'Month', 'Day']).T\n",
    "            dfYear = plotting(dfDays, 'Year', 'Years', 'Reported crime count', 'Reported crime count per year', 20, 5, True)\n",
    "            dfMonth = plotting(dfDays, 'Month', 'Months', 'Reported crime count', 'Reported crime count per month', 5, 5, False)\n",
    "            dfDay = plotting(dfDays, 'Day', 'Days', 'Reported crime count', 'Reported crime count per day', 20, 5, False)"
   ]
  },
  {
   "cell_type": "code",
   "execution_count": 15,
   "metadata": {},
   "outputs": [],
   "source": [
    "years = []\n",
    "months = []\n",
    "days = []\n",
    "for i in range(len(df)):\n",
    "    value = str(df['Occurred Date'][i])\n",
    "    if (value != 'None'):\n",
    "        year = value[6:10]\n",
    "        month = value[0:2]\n",
    "        day = value[3:5]\n",
    "        months.append(month)\n",
    "        days.append(day)\n",
    "        years.append(year)\n",
    "        "
   ]
  },
  {
   "cell_type": "code",
   "execution_count": 59,
   "metadata": {},
   "outputs": [],
   "source": [
    "dfDays = pd.DataFrame([years, months, days],index = ['Year', 'Month', 'Day'])\n"
   ]
  },
  {
   "cell_type": "code",
   "execution_count": 258,
   "metadata": {},
   "outputs": [],
   "source": [
    "# Writes the summary dataFrame to an excel file\n",
    "file_path=r'datasplitup.xlsx'\n",
    "sum_stats=pd.ExcelWriter(file_path)\n",
    "dfDays.to_excel(sum_stats)\n",
    "sum_stats.save()\n",
    "sum_stats.close()"
   ]
  },
  {
   "cell_type": "code",
   "execution_count": 60,
   "metadata": {},
   "outputs": [],
   "source": [
    "dfDays = dfDays.T"
   ]
  },
  {
   "cell_type": "code",
   "execution_count": 218,
   "metadata": {},
   "outputs": [],
   "source": [
    "def plotting(df1, val, xlabel, ylabel, titlelabel, width, height, rotations):\n",
    "    dfTest = df1.groupby(val).size()\n",
    "    dfTest = pd.DataFrame([dfTest], index = [val])\n",
    "    # TODO: Add in how to make plot bar plot through matplot.\n",
    "    x = dfTest.T.index.values\n",
    "    y = dfTest.T[val].values\n",
    "    \n",
    "    plt.bar(x, y, color = \"g\", ) \n",
    "  \n",
    "    # putting labels \n",
    "    plt.xlabel(xlabel) \n",
    "    plt.ylabel(ylabel) \n",
    "    plt.title(titlelabel)\n",
    "    if (rotations):\n",
    "        plt.xticks(rotation=90)\n",
    "    plt.rcParams['figure.figsize'] = (width,height)\n",
    "    \n",
    "    # function to show plot \n",
    "    plt.show() \n",
    "    # hist1 = dfTest.T[val].plot.bar()\n",
    "    # plot_regression_line(x, y, b, 'Years', 'Reported Crime Count', 'Reported Crimes per years in Seattle')\n",
    "    return dfTest"
   ]
  },
  {
   "cell_type": "code",
   "execution_count": 217,
   "metadata": {},
   "outputs": [
    {
     "data": {
      "image/png": "[encoded data removed]",
      "text/plain": [
       "<Figure size 720x360 with 1 Axes>"
      ]
     },
     "metadata": {
      "needs_background": "light"
     },
     "output_type": "display_data"
    }
   ],
   "source": [
    "dfYear = plotting(dfDays, 'Year', 'Years', 'Reported crime count', 'Reported crime count per year', 20, 5, True)"
   ]
  },
  {
   "cell_type": "code",
   "execution_count": 215,
   "metadata": {},
   "outputs": [
    {
     "data": {
      "image/png": "[encoded data removed]",
      "text/plain": [
       "<Figure size 1440x360 with 1 Axes>"
      ]
     },
     "metadata": {
      "needs_background": "light"
     },
     "output_type": "display_data"
    }
   ],
   "source": [
    "dfMonth = plotting(dfDays, 'Month', 'Months', 'Reported crime count', 'Reported crime count per month', 5, 5, False)"
   ]
  },
  {
   "cell_type": "code",
   "execution_count": 214,
   "metadata": {},
   "outputs": [
    {
     "data": {
      "image/png": "[encoded data removed]",
      "text/plain": [
       "<Figure size 720x360 with 1 Axes>"
      ]
     },
     "metadata": {
      "needs_background": "light"
     },
     "output_type": "display_data"
    }
   ],
   "source": [
    "dfDay = plotting(dfDays, 'Day', 'Days', 'Reported crime count', 'Reported crime count per day', 20, 5, False)"
   ]
  },
  {
   "cell_type": "code",
   "execution_count": 114,
   "metadata": {},
   "outputs": [],
   "source": [
    "def estimate_coef(x, y): \n",
    "    # number of observations/points \n",
    "    n = np.size(x) \n",
    "    # mean of x and y vector \n",
    "    m_x = np.mean(x)\n",
    "    m_y = np.mean(y) \n",
    "    # calculating cross-deviation and deviation about x \n",
    "    SS_xy = np.sum(y*x) - n*m_y*m_x \n",
    "    SS_xx = np.sum(x*x) - n*m_x*m_x \n",
    "    # calculating regression coefficients \n",
    "    b_1 = SS_xy / SS_xx \n",
    "    b_0 = m_y - b_1*m_x \n",
    "    return(b_0, b_1)"
   ]
  },
  {
   "cell_type": "code",
   "execution_count": 125,
   "metadata": {},
   "outputs": [],
   "source": [
    "def plot_regression_line(x, y, b, xlabel, ylabel, titlelabel): \n",
    "    # plotting the actual points as scatter plot \n",
    "    plt.scatter(x, y, color = \"m\", \n",
    "               marker = \"o\", s = 30) \n",
    "  \n",
    "    # predicted response vector \n",
    "    y_pred = b[0] + b[1]*x \n",
    "  \n",
    "    # plotting the regression line \n",
    "    plt.plot(x, y_pred, color = \"g\") \n",
    "  \n",
    "    # putting labels \n",
    "    plt.xlabel(xlabel) \n",
    "    plt.ylabel(ylabel) \n",
    "    plt.title(titlelabel)\n",
    "\n",
    "    # function to show plot \n",
    "    plt.show() "
   ]
  },
  {
   "cell_type": "code",
   "execution_count": 139,
   "metadata": {},
   "outputs": [
    {
     "data": {
      "text/plain": [
       "<matplotlib.axes._subplots.AxesSubplot at 0x123893e50>"
      ]
     },
     "execution_count": 139,
     "metadata": {},
     "output_type": "execute_result"
    },
    {
     "data": {
      "image/png": "[encoded data removed]",
      "text/plain": [
       "<Figure size 432x288 with 1 Axes>"
      ]
     },
     "metadata": {
      "needs_background": "light"
     },
     "output_type": "display_data"
    }
   ],
   "source": [
    "upperYearCount = dfYear.T[dfYear.T['Year'] > 2008]\n",
    "upperYearCount.plot.bar()"
   ]
  },
  {
   "cell_type": "code",
   "execution_count": 128,
   "metadata": {},
   "outputs": [],
   "source": [
    "topYears = []\n",
    "topYearsCrime = []\n",
    "for i in range(len(upperYearCount) - 1):\n",
    "    topYears.append(int(upperYearCount['Year'].index[i]) - 2008) \n",
    "    topYearsCrime.append(upperYearCount['Year'][i])\n",
    "x = np.array(topYears)\n",
    "y = np.array(topYearsCrime)"
   ]
  },
  {
   "cell_type": "code",
   "execution_count": 140,
   "metadata": {},
   "outputs": [
    {
     "name": "stdout",
     "output_type": "stream",
     "text": [
      "Estimated coefficients:\n",
      "b_0 = 41431.590909090904  \\ \n",
      "b_1 = 930.5727272727273\n",
      "Equation for expected amount of crime this year is: Crime = Years * 931.0 + 41432.0\n",
      "The expected amount of crimes in the Seattle area is 51668.0 in 2019 and 52598.0 in 2020\n"
     ]
    },
    {
     "data": {
      "image/png": "[encoded data removed]",
      "text/plain": [
       "<Figure size 432x288 with 1 Axes>"
      ]
     },
     "metadata": {
      "needs_background": "light"
     },
     "output_type": "display_data"
    }
   ],
   "source": [
    "# observations \n",
    "x = np.array(topYears).astype(np.float) # Years\n",
    "y = np.array(topYearsCrime).astype(np.float) # Amount\n",
    "\n",
    "# estimating coefficients \n",
    "b = estimate_coef(x, y) \n",
    "print(\"Estimated coefficients:\\nb_0 = {}  \\ \\nb_1 = {}\".format(b[0], b[1])) \n",
    "print(f\"Equation for expected amount of crime this year is: Crime = Years * {round(b[1])} + {round(b[0])}\")\n",
    "print(f'The expected amount of crimes in the Seattle area is {round(b[1] * 11 + b[0], 0)} in 2019 and {round(b[1] * 12 + b[0], 0)} in 2020')\n",
    "\n",
    "# plotting regression line \n",
    "plot_regression_line(x, y, b, 'Years', 'Reported Crime Count', 'Reported Crimes per years in Seattle')"
   ]
  },
  {
   "cell_type": "code",
   "execution_count": null,
   "metadata": {},
   "outputs": [],
   "source": [
    "# 1. What types of crime happened during different times of the day - finshed\n",
    "# 2. Difference in time between occurred date vs reported date. - finished\n",
    "    # What subcategories of crimes had the highest differences in occurred vs reported date \n",
    "# 3. Over the years has reported crime went down - finished\n",
    "# 4. Crime statistics for the city neighbourhoods \n"
   ]
  }
 ],
 "metadata": {
  "kernelspec": {
   "display_name": "Python 3",
   "language": "python",
   "name": "python3"
  },
  "language_info": {
   "codemirror_mode": {
    "name": "ipython",
    "version": 3
   },
   "file_extension": ".py",
   "mimetype": "text/x-python",
   "name": "python",
   "nbconvert_exporter": "python",
   "pygments_lexer": "ipython3",
   "version": "3.7.4"
  }
 },
 "nbformat": 4,
 "nbformat_minor": 2
}
